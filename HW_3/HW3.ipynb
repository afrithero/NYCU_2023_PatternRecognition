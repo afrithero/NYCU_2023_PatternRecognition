{
  "cells": [
    {
      "cell_type": "code",
      "execution_count": 186,
      "metadata": {
        "id": "ZQD8NqPhKyBP"
      },
      "outputs": [],
      "source": [
        "import pandas as pd\n",
        "import numpy as np\n",
        "import matplotlib.pyplot as plt\n",
        "from sklearn.metrics import accuracy_score # Please note that this is the only sklearn function that can be utilized."
      ]
    },
    {
      "cell_type": "markdown",
      "metadata": {
        "id": "YV1MHt_VTg9f"
      },
      "source": [
        "# Load data"
      ]
    },
    {
      "cell_type": "code",
      "execution_count": 187,
      "metadata": {
        "id": "a1vkTOD6K5Nj"
      },
      "outputs": [],
      "source": [
        "# Load the train/val/test dataset\n",
        "\n",
        "df_train = pd.DataFrame(pd.read_csv(\"./PR_HW3_Train.csv\"))\n",
        "df_val   = pd.DataFrame(pd.read_csv(\"./PR_HW3_Val.csv\"))\n",
        "df_test  = pd.DataFrame(pd.read_csv(\"./PR_HW3_Test.csv\"))\n",
        "\n",
        "X_train = df_train[['Feature1', 'Feature2', 'Feature3', 'Feature4', 'Feature5', 'Feature6', 'Feature7']].to_numpy()\n",
        "y_train = df_train[\"Target\"].to_numpy(dtype=np.int64)\n",
        "\n",
        "X_val = df_val[['Feature1', 'Feature2', 'Feature3', 'Feature4', 'Feature5', 'Feature6', 'Feature7']].to_numpy()\n",
        "y_val = df_val[\"Target\"].to_numpy(dtype=np.int64)\n",
        "\n",
        "X_test = df_test[['Feature1', 'Feature2', 'Feature3', 'Feature4', 'Feature5', 'Feature6', 'Feature7']].to_numpy()\n",
        "y_test = df_test[\"Target\"].to_numpy(dtype=np.int64)"
      ]
    },
    {
      "cell_type": "code",
      "execution_count": 188,
      "metadata": {
        "id": "MJcktFIuK78Y"
      },
      "outputs": [
        {
          "name": "stdout",
          "output_type": "stream",
          "text": [
            "(800, 7)\n",
            "(800,)\n",
            "(800, 7)\n",
            "(800,)\n",
            "(800, 7)\n",
            "(800,)\n"
          ]
        }
      ],
      "source": [
        "print(X_train.shape)\n",
        "print(y_train.shape)\n",
        "print(X_val.shape)\n",
        "print(y_val.shape)\n",
        "print(X_test.shape)\n",
        "print(y_test.shape)"
      ]
    },
    {
      "cell_type": "markdown",
      "metadata": {
        "id": "wa3hnJ9sTkvh"
      },
      "source": [
        "# Model Implementation"
      ]
    },
    {
      "cell_type": "code",
      "execution_count": 189,
      "metadata": {
        "id": "5e_nviB8LAK8"
      },
      "outputs": [],
      "source": [
        "def gini(sequence):\n",
        "    if len(sequence) != 0:\n",
        "        n_samples = sequence.shape[0] \n",
        "        _, counts = np.unique(sequence, return_counts=True)\n",
        "        freq = counts / n_samples\n",
        "        gini_index = 1 - np.power(freq,2).sum()\n",
        "    else:\n",
        "        gini_index = 0\n",
        "    return gini_index\n",
        "\n",
        "\n",
        "def entropy(sequence):\n",
        "    if len(sequence) != 0:\n",
        "        n_samples = sequence.shape[0]\n",
        "        _, counts = np.unique(sequence, return_counts=True)\n",
        "        freq = counts / n_samples\n",
        "        entropy = -np.dot(freq,np.log2(freq))\n",
        "    else:\n",
        "        entropy = 0\n",
        "    return entropy\n"
      ]
    },
    {
      "cell_type": "code",
      "execution_count": 190,
      "metadata": {
        "id": "_HJA_108LF_G"
      },
      "outputs": [],
      "source": [
        "class Tree():\n",
        "    \"\"\"\n",
        "    Tree 就是 Node\n",
        "    如果是 leaf -> 僅包含這個 node 屬於哪個 label, 意味著如果 testing data 被分到這裡就是預測為這個類別\n",
        "    如果不是 leaf -> 會包含這個 node 的左右 child node, 以及這個 node 是用哪個特徵把資料分開，然後分開的 threshold\n",
        "    \"\"\"\n",
        "    def __init__(self, feature=None, feature_threshold=None, left=None, right=None, * , value=None):\n",
        "        self.feature = feature\n",
        "        self.feature_threshold = feature_threshold\n",
        "        self.left = left\n",
        "        self.right = right\n",
        "        self.value = value\n",
        "    def is_leaf(self):\n",
        "        return self.value is not None"
      ]
    },
    {
      "cell_type": "code",
      "execution_count": 191,
      "metadata": {
        "id": "O_vgKCIwLdS0"
      },
      "outputs": [],
      "source": [
        "class DecisionTree():\n",
        "    def __init__(self, criterion='gini', max_depth=3, max_features=None):\n",
        "\n",
        "        if criterion == 'gini':\n",
        "            self.criterion = gini\n",
        "        elif criterion == 'entropy':\n",
        "            self.criterion = entropy\n",
        "        if max_depth is None:\n",
        "            self.max_depth = 1e9\n",
        "        else:\n",
        "            self.max_depth = max_depth\n",
        "        # 指定要用幾個 feature 去 train\n",
        "        self.max_features = max_features\n",
        "        self.importance = []\n",
        "    \n",
        "    def fit(self, X, y):\n",
        "        self.max_features = X.shape[1] if self.max_features is None else int(self.max_features)\n",
        "        self.root = self._grow_tree(X, y)\n",
        "    \n",
        "    def _grow_tree(self, X, y, depth=0):\n",
        "        n_samples, n_features = X.shape\n",
        "        n_labels = len(np.unique(y))\n",
        "        if n_samples == 0: # (?)假設一個 node 有三筆 data, unique label > 1, \n",
        "            # 剛好用的 feautre 又篩不出來，選到的 best feature 會讓 data 被分到左子點 or 右子點, 這樣另外一個子點就會沒有資料\n",
        "            return None\n",
        "        if (depth >= self.max_depth or n_labels == 1):\n",
        "            # 走到這一步就是要確定 leaf node 被定義成哪個類\n",
        "            unique_val, counts = np.unique(y, return_counts = True)\n",
        "            leaf_label = unique_val[np.argmax(counts)]\n",
        "            return Tree(value=leaf_label)\n",
        "\n",
        "        feat_idxs = np.random.choice(n_features, self.max_features, replace=False)\n",
        "        # 找到最好的分割點\n",
        "        best_feat_idx, best_feat_threshold= self._best_split(X, y, feat_idxs)\n",
        "        self.importance.append(best_feat_idx)\n",
        "        # 建立 child node\n",
        "        left_filter = (X[:, best_feat_idx] <= best_feat_threshold)\n",
        "        right_filter = (X[:, best_feat_idx] > best_feat_threshold)\n",
        "        left_child = self._grow_tree(X[left_filter], y[left_filter], depth+1)\n",
        "        right_child = self._grow_tree(X[right_filter], y[right_filter], depth+1)\n",
        "        \n",
        "        # 決策樹必須要是 full tree，所以如果有一個 child node 是 None，就要把這個 node 設成 leaf node\n",
        "        if left_child is None or right_child is None:\n",
        "            unique_val, counts = np.unique(y, return_counts = True)\n",
        "            leaf_label = unique_val[np.argmax(counts)]\n",
        "            return Tree(value=leaf_label)\n",
        "            \n",
        "        return Tree(best_feat_idx,best_feat_threshold,left_child,right_child)\n",
        "    \n",
        "    def _best_split(self, X, y, feat_idxs):\n",
        "        min_impurity = float(\"inf\")\n",
        "        best_feat_idx, best_feat_threshold = None, None\n",
        "        for feat_idx in feat_idxs:\n",
        "            X_col = X[:, feat_idx]\n",
        "            # 用兩兩之間 data points 的 mean 去當 threshold \n",
        "            thresholds = np.unique(X_col)\n",
        "            if len(thresholds) > 1:\n",
        "                thresholds_forward = np.roll(thresholds,1)\n",
        "                thresholds = thresholds[1:]\n",
        "                thresholds_forward = thresholds_forward[1:]\n",
        "                thresholds_combined = np.array([thresholds,thresholds_forward])\n",
        "                thresholds_mean = thresholds_combined.mean(axis=0)\n",
        "            else: #如果值都一樣，就直接用這個值當 threshold\n",
        "                thresholds_mean = thresholds\n",
        "            for threshold in thresholds_mean:\n",
        "                n_left, n_right = len(y[X_col <= threshold]), len(y[X_col > threshold])\n",
        "                left_impurity, right_impurity = self.criterion(y[X_col <= threshold]), self.criterion(y[X_col > threshold])\n",
        "                child_impurity = (n_left/len(y)) * left_impurity + (n_right/len(y)) * right_impurity\n",
        "                if child_impurity < min_impurity:\n",
        "                   min_impurity = child_impurity\n",
        "                   best_feat_idx, best_feat_threshold = feat_idx, threshold\n",
        "\n",
        "        return best_feat_idx, best_feat_threshold\n",
        "    \n",
        "\n",
        "    def _traverse_tree(self, x, tree):\n",
        "        if tree.is_leaf():\n",
        "            return tree.value    \n",
        "        \n",
        "        if x[tree.feature] <= tree.feature_threshold:\n",
        "            return self._traverse_tree(x, tree.left)\n",
        "        return self._traverse_tree(x, tree.right)\n",
        "\n",
        "    def predict(self, X):\n",
        "        y_pred = np.array([self._traverse_tree(x, self.root) for x in X])\n",
        "        return y_pred"
      ]
    },
    {
      "cell_type": "code",
      "execution_count": 192,
      "metadata": {
        "id": "BE8wu0MGN_H-"
      },
      "outputs": [],
      "source": [
        "class RandomForest():\n",
        "\n",
        "    def __init__(self, n_estimators=10, max_features=None, boostrap=True, criterion='gini', max_depth=None):\n",
        "        \n",
        "        self.n_estimators = n_estimators\n",
        "        self.max_features = max_features\n",
        "        self.boostrap = boostrap\n",
        "        self.criterion = criterion\n",
        "        self.max_depth = max_depth\n",
        "        self.trees = []\n",
        "        \n",
        "    def fit(self, X, y):\n",
        "        self.trees = []\n",
        "        for _ in range(self.n_estimators):\n",
        "            tree = DecisionTree(criterion=self.criterion, max_depth=self.max_depth, max_features=self.max_features)\n",
        "            if self.boostrap:\n",
        "                X_, y_ = self._bootstrap(X, y)\n",
        "                tree.fit(X_, y_)\n",
        "            self.trees.append(tree)\n",
        "    \n",
        "    def _bootstrap(self, X, y):\n",
        "        n_samples = X.shape[0]\n",
        "        idxs = np.random.choice(n_samples, n_samples, replace=True) # 因為 replace = True, 所以可重複取, 因此實際 size 不會等於 800\n",
        "        return X[idxs], y[idxs]\n",
        "    \n",
        "    def predict(self, X):\n",
        "        predictions = np.array([tree.predict(X) for tree in self.trees]) # 本來是：axis = 0 -> 樹, axis = 1 -> 所有樣本的預測值\n",
        "        predictions = predictions.T # 轉成：axis = 0 -> 樣本, 內層 -> 這個樣本在所有樹的預測值\n",
        "        vote_result = []\n",
        "        for pred in predictions:\n",
        "            unique_val, counts = np.unique(pred, return_counts = True)\n",
        "            vote = unique_val[np.argmax(counts)]\n",
        "            vote_result.append(vote)\n",
        "        return np.array(vote_result)\n",
        "    \n",
        "    def feature_importance(self):\n",
        "        importance = []\n",
        "        for tree in self.trees:\n",
        "            importance += tree.importance\n",
        "        unique_val, counts = np.unique(importance, return_counts = True)\n",
        "        \n",
        "        return unique_val, counts"
      ]
    },
    {
      "cell_type": "markdown",
      "metadata": {
        "id": "RPUsaCh2T9Fs"
      },
      "source": [
        "# Questions for Decision Tree"
      ]
    },
    {
      "cell_type": "code",
      "execution_count": 193,
      "metadata": {
        "id": "zSB-Uqp4OaaX"
      },
      "outputs": [
        {
          "name": "stdout",
          "output_type": "stream",
          "text": [
            "['+' '+' '+' '+' '+' '-']: entropy = 0.6500224216483541\n",
            "['+' '+' '+' '-' '-' '-']: entropy = 1.0\n",
            "['+' '-' '-' '-' '-' '-']: entropy = 0.6500224216483541\n",
            "\n",
            "['+' '+' '+' '+' '+' '-']: gini index = 0.2777777777777777\n",
            "['+' '+' '+' '-' '-' '-']: gini index = 0.5\n",
            "['+' '-' '-' '-' '-' '-']: gini index = 0.2777777777777777\n",
            "\n"
          ]
        }
      ],
      "source": [
        "# For Q1\n",
        "ex1 = np.array([\"+\", \"+\", \"+\", \"+\", \"+\", \"-\"])\n",
        "ex2 = np.array([\"+\", \"+\", \"+\", \"-\", \"-\", \"-\"])\n",
        "ex3 = np.array([\"+\" ,\"-\", \"-\", \"-\", \"-\", \"-\"])\n",
        "\n",
        "print(f\"{ex1}: entropy = {entropy(ex1)}\\n{ex2}: entropy = {entropy(ex2)}\\n{ex3}: entropy = {entropy(ex3)}\\n\")\n",
        "print(f\"{ex1}: gini index = {gini(ex1)}\\n{ex2}: gini index = {gini(ex2)}\\n{ex3}: gini index = {gini(ex3)}\\n\")"
      ]
    },
    {
      "cell_type": "code",
      "execution_count": 194,
      "metadata": {
        "id": "G_t9N9fnOdon"
      },
      "outputs": [
        {
          "name": "stdout",
          "output_type": "stream",
          "text": [
            "Q2-1 max_depth=3:  0.73125\n"
          ]
        }
      ],
      "source": [
        "# For Q2-1, validation accuracy should be higher than or equal to 0.73\n",
        "\n",
        "np.random.seed(1) # You may adjust the seed number in all the cells\n",
        "\n",
        "dt_depth3 = DecisionTree(criterion='gini', max_features=None, max_depth=3)\n",
        "dt_depth3.fit(X_train, y_train)\n",
        "\n",
        "acc = accuracy_score(y_val, dt_depth3.predict(X_val))\n",
        "\n",
        "print(\"Q2-1 max_depth=3: \", acc)"
      ]
    },
    {
      "cell_type": "code",
      "execution_count": 195,
      "metadata": {
        "id": "T0HcgzMdjHRP"
      },
      "outputs": [],
      "source": [
        "\"\"\" Do Not Modify Below \"\"\"\n",
        "\n",
        "from sklearn.tree import DecisionTreeClassifier as SK_DecisionTreeClassifier\n",
        "\n",
        "sk_dt = SK_DecisionTreeClassifier(criterion='gini', max_depth=3)\n",
        "sk_dt.fit(X_train, y_train)\n",
        "sk_acc = accuracy_score(y_val, sk_dt.predict(X_val))\n",
        "\n",
        "assert round(acc, 3) == round(sk_acc, 3), \"Because the Decision Tree without any trick has a fixed answer, your accuracy should be the same as sklearn, otherwise your implementation might have some problems\""
      ]
    },
    {
      "cell_type": "code",
      "execution_count": 196,
      "metadata": {
        "id": "SjCPMr-eQ7jn"
      },
      "outputs": [
        {
          "name": "stdout",
          "output_type": "stream",
          "text": [
            "Q2-2 max_depth=10:  0.86625\n"
          ]
        }
      ],
      "source": [
        "# For Q2-2, validation accuracy should be higher than or equal to 0.85\n",
        "\n",
        "np.random.seed(1)\n",
        "\n",
        "dt_depth10 = DecisionTree(criterion='gini', max_features=None, max_depth=10)\n",
        "dt_depth10.fit(X_train, y_train)\n",
        "\n",
        "print(\"Q2-2 max_depth=10: \", accuracy_score(y_val,  dt_depth10.predict(X_val)))"
      ]
    },
    {
      "cell_type": "code",
      "execution_count": 197,
      "metadata": {
        "id": "iTbxGPrbO2jT"
      },
      "outputs": [
        {
          "name": "stdout",
          "output_type": "stream",
          "text": [
            "Q3-1 criterion='gini':  0.73125\n"
          ]
        }
      ],
      "source": [
        "# For Q3-1, validation accuracy should be higher than or equal to 0.73\n",
        "\n",
        "np.random.seed(1)\n",
        "\n",
        "dt_gini = DecisionTree(criterion='gini', max_features=None, max_depth=3)\n",
        "dt_gini.fit(X_train, y_train)\n",
        "\n",
        "print(\"Q3-1 criterion='gini': \", accuracy_score(y_val, dt_gini.predict(X_val)))\n"
      ]
    },
    {
      "cell_type": "code",
      "execution_count": 198,
      "metadata": {
        "id": "1XG7eAKUQ-YU"
      },
      "outputs": [
        {
          "name": "stdout",
          "output_type": "stream",
          "text": [
            "Q3-2 criterion='entropy':  0.77\n"
          ]
        }
      ],
      "source": [
        "# For Q3-2, validation accuracy should be higher than or equal to 0.77\n",
        "\n",
        "np.random.seed(1)\n",
        "\n",
        "dt_entropy = DecisionTree(criterion='entropy', max_features=None, max_depth=3)\n",
        "dt_entropy.fit(X_train, y_train)\n",
        "\n",
        "print(\"Q3-2 criterion='entropy': \", accuracy_score(y_val, dt_entropy.predict(X_val)))"
      ]
    },
    {
      "cell_type": "code",
      "execution_count": 199,
      "metadata": {
        "id": "joE89xabPsXg"
      },
      "outputs": [
        {
          "data": {
            "image/png": "[encoded data removed]",
            "text/plain": [
              "<Figure size 640x480 with 1 Axes>"
            ]
          },
          "metadata": {},
          "output_type": "display_data"
        }
      ],
      "source": [
        "# For Q4\n",
        "# Use simply counting to get the feature importance: dt_depth10.importance\n",
        "\n",
        "labelList=['Feature1', 'Feature2', 'Feature3', 'Feature4', 'Feature5', 'Feature6', 'Feature7']\n",
        "_, counts = np.unique(dt_depth10.importance, return_counts=True)\n",
        "plt.barh(labelList, counts)\n",
        "plt.xlabel('Features')\n",
        "plt.ylabel('Counts')\n",
        "plt.title('Feature Importance')\n",
        "\n",
        "plt.show()"
      ]
    },
    {
      "cell_type": "markdown",
      "metadata": {
        "id": "Wg97qz_xUGfP"
      },
      "source": [
        "# Questions for Random Rorest"
      ]
    },
    {
      "cell_type": "code",
      "execution_count": 200,
      "metadata": {
        "id": "SlrdIW1ERJ8F"
      },
      "outputs": [
        {
          "name": "stdout",
          "output_type": "stream",
          "text": [
            "Q5-1 n_estimators=10:  0.89125\n"
          ]
        }
      ],
      "source": [
        "# For Q5-1, validation accuracy should be higher than or equal to 0.88\n",
        "\n",
        "np.random.seed(1)\n",
        "\n",
        "rf_estimators10 = RandomForest(n_estimators=10, max_features=np.sqrt(X_train.shape[1]), boostrap=True, criterion='gini', max_depth=None)\n",
        "rf_estimators10.fit(X_train, y_train)\n",
        "\n",
        "print(\"Q5-1 n_estimators=10: \", accuracy_score(y_val, rf_estimators10.predict(X_val)))"
      ]
    },
    {
      "cell_type": "code",
      "execution_count": 201,
      "metadata": {
        "id": "4qcLuIkbRUfM"
      },
      "outputs": [
        {
          "name": "stdout",
          "output_type": "stream",
          "text": [
            "Q5-1 n_estimators=50:  0.9025\n"
          ]
        }
      ],
      "source": [
        "# For Q5-2, validation accuracy should be higher than or equal to 0.89\n",
        "\n",
        "np.random.seed(1)\n",
        "\n",
        "rf_estimators50 = RandomForest(n_estimators=50, max_features=np.sqrt(X_train.shape[1]), boostrap=True, criterion='gini', max_depth=None)\n",
        "rf_estimators50.fit(X_train, y_train)\n",
        "\n",
        "print(\"Q5-1 n_estimators=50: \", accuracy_score(y_val, rf_estimators50.predict(X_val)))"
      ]
    },
    {
      "cell_type": "code",
      "execution_count": 202,
      "metadata": {
        "id": "n-DbniYhRYmM"
      },
      "outputs": [
        {
          "name": "stdout",
          "output_type": "stream",
          "text": [
            "Q6-1 max_features='sqrt':  0.89125\n"
          ]
        }
      ],
      "source": [
        "# For Q6-1, validation accuracy should be higher than or equal to 0.88\n",
        "\n",
        "np.random.seed(1)\n",
        "\n",
        "rf_maxfeature_sqrt = RandomForest(n_estimators=10, max_features=np.sqrt(X_train.shape[1]), boostrap=True, criterion='gini', max_depth=None)\n",
        "rf_maxfeature_sqrt.fit(X_train, y_train)\n",
        "\n",
        "print(\"Q6-1 max_features='sqrt': \", accuracy_score(y_val,  rf_maxfeature_sqrt.predict(X_val)))"
      ]
    },
    {
      "cell_type": "code",
      "execution_count": 203,
      "metadata": {
        "id": "PF9yufSaRffn"
      },
      "outputs": [
        {
          "name": "stdout",
          "output_type": "stream",
          "text": [
            "Q6-1 max_features='All':  0.8825\n"
          ]
        }
      ],
      "source": [
        "# For Q6-2, validation accuracy should be higher than or equal to 0.86\n",
        "\n",
        "np.random.seed(1)\n",
        "\n",
        "rf_maxfeature_none = RandomForest(n_estimators=10, max_features=None, boostrap=True, criterion='gini', max_depth=None)\n",
        "rf_maxfeature_none.fit(X_train, y_train)\n",
        "\n",
        "print(\"Q6-1 max_features='All': \", accuracy_score(y_val, rf_maxfeature_none.predict(X_val)))"
      ]
    },
    {
      "cell_type": "markdown",
      "metadata": {
        "id": "UjopdAZqUKbF"
      },
      "source": [
        "# Train your own model"
      ]
    },
    {
      "cell_type": "code",
      "execution_count": 204,
      "metadata": {},
      "outputs": [],
      "source": [
        "df_train = pd.DataFrame(pd.read_csv(\"./PR_HW3_Train.csv\"))\n",
        "df_val   = pd.DataFrame(pd.read_csv(\"./PR_HW3_Val.csv\"))\n",
        "df_test  = pd.DataFrame(pd.read_csv(\"./PR_HW3_Test.csv\"))"
      ]
    },
    {
      "cell_type": "code",
      "execution_count": 205,
      "metadata": {},
      "outputs": [
        {
          "data": {
            "text/html": [
              "<div>\n",
              "<style scoped>\n",
              "    .dataframe tbody tr th:only-of-type {\n",
              "        vertical-align: middle;\n",
              "    }\n",
              "\n",
              "    .dataframe tbody tr th {\n",
              "        vertical-align: top;\n",
              "    }\n",
              "\n",
              "    .dataframe thead th {\n",
              "        text-align: right;\n",
              "    }\n",
              "</style>\n",
              "<table border=\"1\" class=\"dataframe\">\n",
              "  <thead>\n",
              "    <tr style=\"text-align: right;\">\n",
              "      <th></th>\n",
              "      <th>Feature1</th>\n",
              "      <th>Feature2</th>\n",
              "      <th>Feature3</th>\n",
              "      <th>Feature4</th>\n",
              "      <th>Feature5</th>\n",
              "      <th>Feature6</th>\n",
              "      <th>Feature7</th>\n",
              "    </tr>\n",
              "  </thead>\n",
              "  <tbody>\n",
              "    <tr>\n",
              "      <th>Feature1</th>\n",
              "      <td>1.000000</td>\n",
              "      <td>0.386341</td>\n",
              "      <td>-0.004138</td>\n",
              "      <td>-0.296028</td>\n",
              "      <td>-0.576868</td>\n",
              "      <td>-0.770774</td>\n",
              "      <td>-0.420099</td>\n",
              "    </tr>\n",
              "    <tr>\n",
              "      <th>Feature2</th>\n",
              "      <td>0.386341</td>\n",
              "      <td>1.000000</td>\n",
              "      <td>-0.324435</td>\n",
              "      <td>-0.289485</td>\n",
              "      <td>-0.704998</td>\n",
              "      <td>-0.855532</td>\n",
              "      <td>-0.468541</td>\n",
              "    </tr>\n",
              "    <tr>\n",
              "      <th>Feature3</th>\n",
              "      <td>-0.004138</td>\n",
              "      <td>-0.324435</td>\n",
              "      <td>1.000000</td>\n",
              "      <td>0.168631</td>\n",
              "      <td>0.310731</td>\n",
              "      <td>0.234297</td>\n",
              "      <td>0.127865</td>\n",
              "    </tr>\n",
              "    <tr>\n",
              "      <th>Feature4</th>\n",
              "      <td>-0.296028</td>\n",
              "      <td>-0.289485</td>\n",
              "      <td>0.168631</td>\n",
              "      <td>1.000000</td>\n",
              "      <td>0.630952</td>\n",
              "      <td>0.331842</td>\n",
              "      <td>0.641411</td>\n",
              "    </tr>\n",
              "    <tr>\n",
              "      <th>Feature5</th>\n",
              "      <td>-0.576868</td>\n",
              "      <td>-0.704998</td>\n",
              "      <td>0.310731</td>\n",
              "      <td>0.630952</td>\n",
              "      <td>1.000000</td>\n",
              "      <td>0.776966</td>\n",
              "      <td>0.469712</td>\n",
              "    </tr>\n",
              "    <tr>\n",
              "      <th>Feature6</th>\n",
              "      <td>-0.770774</td>\n",
              "      <td>-0.855532</td>\n",
              "      <td>0.234297</td>\n",
              "      <td>0.331842</td>\n",
              "      <td>0.776966</td>\n",
              "      <td>1.000000</td>\n",
              "      <td>0.536559</td>\n",
              "    </tr>\n",
              "    <tr>\n",
              "      <th>Feature7</th>\n",
              "      <td>-0.420099</td>\n",
              "      <td>-0.468541</td>\n",
              "      <td>0.127865</td>\n",
              "      <td>0.641411</td>\n",
              "      <td>0.469712</td>\n",
              "      <td>0.536559</td>\n",
              "      <td>1.000000</td>\n",
              "    </tr>\n",
              "  </tbody>\n",
              "</table>\n",
              "</div>"
            ],
            "text/plain": [
              "          Feature1  Feature2  Feature3  Feature4  Feature5  Feature6  Feature7\n",
              "Feature1  1.000000  0.386341 -0.004138 -0.296028 -0.576868 -0.770774 -0.420099\n",
              "Feature2  0.386341  1.000000 -0.324435 -0.289485 -0.704998 -0.855532 -0.468541\n",
              "Feature3 -0.004138 -0.324435  1.000000  0.168631  0.310731  0.234297  0.127865\n",
              "Feature4 -0.296028 -0.289485  0.168631  1.000000  0.630952  0.331842  0.641411\n",
              "Feature5 -0.576868 -0.704998  0.310731  0.630952  1.000000  0.776966  0.469712\n",
              "Feature6 -0.770774 -0.855532  0.234297  0.331842  0.776966  1.000000  0.536559\n",
              "Feature7 -0.420099 -0.468541  0.127865  0.641411  0.469712  0.536559  1.000000"
            ]
          },
          "execution_count": 205,
          "metadata": {},
          "output_type": "execute_result"
        }
      ],
      "source": [
        "df_train[[\"Feature1\",\"Feature2\",\"Feature3\",\"Feature4\",\"Feature5\",\"Feature6\",\"Feature7\"]].corr()"
      ]
    },
    {
      "cell_type": "code",
      "execution_count": 206,
      "metadata": {},
      "outputs": [
        {
          "data": {
            "text/html": [
              "<div>\n",
              "<style scoped>\n",
              "    .dataframe tbody tr th:only-of-type {\n",
              "        vertical-align: middle;\n",
              "    }\n",
              "\n",
              "    .dataframe tbody tr th {\n",
              "        vertical-align: top;\n",
              "    }\n",
              "\n",
              "    .dataframe thead th {\n",
              "        text-align: right;\n",
              "    }\n",
              "</style>\n",
              "<table border=\"1\" class=\"dataframe\">\n",
              "  <thead>\n",
              "    <tr style=\"text-align: right;\">\n",
              "      <th></th>\n",
              "      <th>Feature1</th>\n",
              "      <th>Feature2</th>\n",
              "      <th>Feature3</th>\n",
              "      <th>Feature4</th>\n",
              "      <th>Feature5</th>\n",
              "      <th>Feature6</th>\n",
              "      <th>Feature7</th>\n",
              "    </tr>\n",
              "  </thead>\n",
              "  <tbody>\n",
              "    <tr>\n",
              "      <th>Feature1</th>\n",
              "      <td>1.000000</td>\n",
              "      <td>0.399139</td>\n",
              "      <td>-0.033229</td>\n",
              "      <td>-0.327778</td>\n",
              "      <td>-0.549605</td>\n",
              "      <td>-0.761302</td>\n",
              "      <td>-0.445788</td>\n",
              "    </tr>\n",
              "    <tr>\n",
              "      <th>Feature2</th>\n",
              "      <td>0.399139</td>\n",
              "      <td>1.000000</td>\n",
              "      <td>-0.363908</td>\n",
              "      <td>-0.352929</td>\n",
              "      <td>-0.771125</td>\n",
              "      <td>-0.871342</td>\n",
              "      <td>-0.462257</td>\n",
              "    </tr>\n",
              "    <tr>\n",
              "      <th>Feature3</th>\n",
              "      <td>-0.033229</td>\n",
              "      <td>-0.363908</td>\n",
              "      <td>1.000000</td>\n",
              "      <td>0.197286</td>\n",
              "      <td>0.391074</td>\n",
              "      <td>0.282438</td>\n",
              "      <td>0.164315</td>\n",
              "    </tr>\n",
              "    <tr>\n",
              "      <th>Feature4</th>\n",
              "      <td>-0.327778</td>\n",
              "      <td>-0.352929</td>\n",
              "      <td>0.197286</td>\n",
              "      <td>1.000000</td>\n",
              "      <td>0.615878</td>\n",
              "      <td>0.405397</td>\n",
              "      <td>0.752217</td>\n",
              "    </tr>\n",
              "    <tr>\n",
              "      <th>Feature5</th>\n",
              "      <td>-0.549605</td>\n",
              "      <td>-0.771125</td>\n",
              "      <td>0.391074</td>\n",
              "      <td>0.615878</td>\n",
              "      <td>1.000000</td>\n",
              "      <td>0.825002</td>\n",
              "      <td>0.516993</td>\n",
              "    </tr>\n",
              "    <tr>\n",
              "      <th>Feature6</th>\n",
              "      <td>-0.761302</td>\n",
              "      <td>-0.871342</td>\n",
              "      <td>0.282438</td>\n",
              "      <td>0.405397</td>\n",
              "      <td>0.825002</td>\n",
              "      <td>1.000000</td>\n",
              "      <td>0.549088</td>\n",
              "    </tr>\n",
              "    <tr>\n",
              "      <th>Feature7</th>\n",
              "      <td>-0.445788</td>\n",
              "      <td>-0.462257</td>\n",
              "      <td>0.164315</td>\n",
              "      <td>0.752217</td>\n",
              "      <td>0.516993</td>\n",
              "      <td>0.549088</td>\n",
              "      <td>1.000000</td>\n",
              "    </tr>\n",
              "  </tbody>\n",
              "</table>\n",
              "</div>"
            ],
            "text/plain": [
              "          Feature1  Feature2  Feature3  Feature4  Feature5  Feature6  Feature7\n",
              "Feature1  1.000000  0.399139 -0.033229 -0.327778 -0.549605 -0.761302 -0.445788\n",
              "Feature2  0.399139  1.000000 -0.363908 -0.352929 -0.771125 -0.871342 -0.462257\n",
              "Feature3 -0.033229 -0.363908  1.000000  0.197286  0.391074  0.282438  0.164315\n",
              "Feature4 -0.327778 -0.352929  0.197286  1.000000  0.615878  0.405397  0.752217\n",
              "Feature5 -0.549605 -0.771125  0.391074  0.615878  1.000000  0.825002  0.516993\n",
              "Feature6 -0.761302 -0.871342  0.282438  0.405397  0.825002  1.000000  0.549088\n",
              "Feature7 -0.445788 -0.462257  0.164315  0.752217  0.516993  0.549088  1.000000"
            ]
          },
          "execution_count": 206,
          "metadata": {},
          "output_type": "execute_result"
        }
      ],
      "source": [
        "df_val[[\"Feature1\",\"Feature2\",\"Feature3\",\"Feature4\",\"Feature5\",\"Feature6\",\"Feature7\"]].corr()"
      ]
    },
    {
      "cell_type": "code",
      "execution_count": 207,
      "metadata": {},
      "outputs": [
        {
          "data": {
            "text/html": [
              "<div>\n",
              "<style scoped>\n",
              "    .dataframe tbody tr th:only-of-type {\n",
              "        vertical-align: middle;\n",
              "    }\n",
              "\n",
              "    .dataframe tbody tr th {\n",
              "        vertical-align: top;\n",
              "    }\n",
              "\n",
              "    .dataframe thead th {\n",
              "        text-align: right;\n",
              "    }\n",
              "</style>\n",
              "<table border=\"1\" class=\"dataframe\">\n",
              "  <thead>\n",
              "    <tr style=\"text-align: right;\">\n",
              "      <th></th>\n",
              "      <th>Feature1</th>\n",
              "      <th>Feature2</th>\n",
              "      <th>Feature3</th>\n",
              "      <th>Feature4</th>\n",
              "      <th>Feature5</th>\n",
              "      <th>Feature6</th>\n",
              "      <th>Feature7</th>\n",
              "    </tr>\n",
              "  </thead>\n",
              "  <tbody>\n",
              "    <tr>\n",
              "      <th>Feature1</th>\n",
              "      <td>1.000000</td>\n",
              "      <td>0.417957</td>\n",
              "      <td>0.000479</td>\n",
              "      <td>-0.348071</td>\n",
              "      <td>-0.596061</td>\n",
              "      <td>-0.781198</td>\n",
              "      <td>-0.430903</td>\n",
              "    </tr>\n",
              "    <tr>\n",
              "      <th>Feature2</th>\n",
              "      <td>0.417957</td>\n",
              "      <td>1.000000</td>\n",
              "      <td>-0.295249</td>\n",
              "      <td>-0.309792</td>\n",
              "      <td>-0.711083</td>\n",
              "      <td>-0.865102</td>\n",
              "      <td>-0.456143</td>\n",
              "    </tr>\n",
              "    <tr>\n",
              "      <th>Feature3</th>\n",
              "      <td>0.000479</td>\n",
              "      <td>-0.295249</td>\n",
              "      <td>1.000000</td>\n",
              "      <td>0.172907</td>\n",
              "      <td>0.272652</td>\n",
              "      <td>0.203327</td>\n",
              "      <td>0.142244</td>\n",
              "    </tr>\n",
              "    <tr>\n",
              "      <th>Feature4</th>\n",
              "      <td>-0.348071</td>\n",
              "      <td>-0.309792</td>\n",
              "      <td>0.172907</td>\n",
              "      <td>1.000000</td>\n",
              "      <td>0.611806</td>\n",
              "      <td>0.364164</td>\n",
              "      <td>0.692280</td>\n",
              "    </tr>\n",
              "    <tr>\n",
              "      <th>Feature5</th>\n",
              "      <td>-0.596061</td>\n",
              "      <td>-0.711083</td>\n",
              "      <td>0.272652</td>\n",
              "      <td>0.611806</td>\n",
              "      <td>1.000000</td>\n",
              "      <td>0.790826</td>\n",
              "      <td>0.461448</td>\n",
              "    </tr>\n",
              "    <tr>\n",
              "      <th>Feature6</th>\n",
              "      <td>-0.781198</td>\n",
              "      <td>-0.865102</td>\n",
              "      <td>0.203327</td>\n",
              "      <td>0.364164</td>\n",
              "      <td>0.790826</td>\n",
              "      <td>1.000000</td>\n",
              "      <td>0.527943</td>\n",
              "    </tr>\n",
              "    <tr>\n",
              "      <th>Feature7</th>\n",
              "      <td>-0.430903</td>\n",
              "      <td>-0.456143</td>\n",
              "      <td>0.142244</td>\n",
              "      <td>0.692280</td>\n",
              "      <td>0.461448</td>\n",
              "      <td>0.527943</td>\n",
              "      <td>1.000000</td>\n",
              "    </tr>\n",
              "  </tbody>\n",
              "</table>\n",
              "</div>"
            ],
            "text/plain": [
              "          Feature1  Feature2  Feature3  Feature4  Feature5  Feature6  Feature7\n",
              "Feature1  1.000000  0.417957  0.000479 -0.348071 -0.596061 -0.781198 -0.430903\n",
              "Feature2  0.417957  1.000000 -0.295249 -0.309792 -0.711083 -0.865102 -0.456143\n",
              "Feature3  0.000479 -0.295249  1.000000  0.172907  0.272652  0.203327  0.142244\n",
              "Feature4 -0.348071 -0.309792  0.172907  1.000000  0.611806  0.364164  0.692280\n",
              "Feature5 -0.596061 -0.711083  0.272652  0.611806  1.000000  0.790826  0.461448\n",
              "Feature6 -0.781198 -0.865102  0.203327  0.364164  0.790826  1.000000  0.527943\n",
              "Feature7 -0.430903 -0.456143  0.142244  0.692280  0.461448  0.527943  1.000000"
            ]
          },
          "execution_count": 207,
          "metadata": {},
          "output_type": "execute_result"
        }
      ],
      "source": [
        "df_test[[\"Feature1\",\"Feature2\",\"Feature3\",\"Feature4\",\"Feature5\",\"Feature6\",\"Feature7\"]].corr()"
      ]
    },
    {
      "cell_type": "code",
      "execution_count": 208,
      "metadata": {},
      "outputs": [],
      "source": [
        "df_train[\"Feature5_6\"] = df_train[\"Feature5\"] * df_train[\"Feature6\"]\n",
        "df_val[\"Feature5_6\"] = df_val[\"Feature5\"] * df_val[\"Feature6\"]\n",
        "df_test[\"Feature5_6\"] = df_test[\"Feature5\"] * df_test[\"Feature6\"]"
      ]
    },
    {
      "cell_type": "code",
      "execution_count": 209,
      "metadata": {},
      "outputs": [],
      "source": [
        "X_test = df_test[['Feature1', 'Feature2', 'Feature3','Feature4', 'Feature5', 'Feature6', 'Feature7',\"Feature5_6\"]].to_numpy()\n",
        "X_train = df_train[['Feature1','Feature2', 'Feature3', 'Feature4', 'Feature5', 'Feature6', 'Feature7',\"Feature5_6\"]].to_numpy()\n",
        "y_train = df_train[\"Target\"].to_numpy(dtype=np.int64)\n",
        "X_val = df_val[['Feature1', 'Feature2','Feature3','Feature4', 'Feature5', 'Feature6', 'Feature7',\"Feature5_6\"]].to_numpy()\n",
        "y_val = df_val[\"Target\"].to_numpy(dtype=np.int64)\n"
      ]
    },
    {
      "cell_type": "code",
      "execution_count": 210,
      "metadata": {},
      "outputs": [
        {
          "name": "stdout",
          "output_type": "stream",
          "text": [
            "Validation Prediction Accurarcy: 0.905\n"
          ]
        }
      ],
      "source": [
        "np.random.seed(19)\n",
        "model = RandomForest(n_estimators=50, max_features=np.sqrt(X_train.shape[1]), boostrap=True, criterion='gini', max_depth=20)\n",
        "model.fit(X_train, y_train)\n",
        "val_pred_acc = accuracy_score(y_val,  model.predict(X_val))\n",
        "print(\"Validation Prediction Accurarcy: {}\".format(val_pred_acc))"
      ]
    },
    {
      "cell_type": "code",
      "execution_count": 211,
      "metadata": {},
      "outputs": [
        {
          "name": "stdout",
          "output_type": "stream",
          "text": [
            "Validation Prediction Accurarcy: 0.9125\n",
            "test_pred shape:  (800,)\n",
            "Validation Prediction Accurarcy: 0.91375\n",
            "test_pred shape:  (800,)\n",
            "Validation Prediction Accurarcy: 0.9175\n",
            "test_pred shape:  (800,)\n"
          ]
        }
      ],
      "source": [
        "val_pred_acc_prev = 0\n",
        "np.random.seed(19)\n",
        "# Build and train your model\n",
        "for i in range(10):\n",
        "    train_indices = df_val.sample(frac=0.1).index\n",
        "    df_val_for_train = df_val.loc[train_indices]\n",
        "    df_train_mixed = pd.concat([df_train,df_val_for_train])\n",
        "    X_train = df_train_mixed[['Feature1','Feature2', \"Feature3\", 'Feature4', 'Feature5', 'Feature6', 'Feature7',\"Feature5_6\"]].to_numpy()\n",
        "    y_train = df_train_mixed[\"Target\"].to_numpy(dtype=np.int64)\n",
        "    X_val = df_val[['Feature1', 'Feature2', \"Feature3\",'Feature4', 'Feature5', 'Feature6', 'Feature7',\"Feature5_6\"]].to_numpy()\n",
        "    y_val = df_val[\"Target\"].to_numpy(dtype=np.int64)\n",
        "    model = RandomForest(n_estimators=50, max_features=np.sqrt(X_train.shape[1]), boostrap=True, criterion='gini', max_depth=20)\n",
        "    model.fit(X_train, y_train)\n",
        "    val_pred_acc = accuracy_score(y_val,  model.predict(X_val))\n",
        "    if val_pred_acc > val_pred_acc_prev:\n",
        "        val_pred_acc_prev = val_pred_acc\n",
        "        print(\"Validation Prediction Accurarcy: {}\".format(val_pred_acc))\n",
        "        test_pred = model.predict(X_test)\n",
        "        print(\"test_pred shape: \", test_pred.shape)\n",
        "        df_test = pd.DataFrame(pd.read_csv(\"./PR_HW3_Test.csv\"))\n",
        "        df_test[\"Target\"] = test_pred\n",
        "        df_test.to_csv(\"311554060_prediction.csv\")\n",
        "\n"
      ]
    }
  ],
  "metadata": {
    "colab": {
      "collapsed_sections": [
        "YV1MHt_VTg9f"
      ],
      "provenance": []
    },
    "kernelspec": {
      "display_name": "Python 3",
      "name": "python3"
    },
    "language_info": {
      "codemirror_mode": {
        "name": "ipython",
        "version": 3
      },
      "file_extension": ".py",
      "mimetype": "text/x-python",
      "name": "python",
      "nbconvert_exporter": "python",
      "pygments_lexer": "ipython3",
      "version": "3.9.13"
    }
  },
  "nbformat": 4,
  "nbformat_minor": 0
}
